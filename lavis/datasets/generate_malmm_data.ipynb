{
 "cells": [
  {
   "cell_type": "code",
   "execution_count": null,
   "metadata": {},
   "outputs": [],
   "source": [
    "# /home/tom/Open-Sora-dev/opensora/utils/camera_pose_utils/pose_traj_classes_2024-10-01_18-07-05.csv\n",
    "import pandas as pd\n",
    "MALMM_HOME = \"/home/tom/Open-Sora-dev/tools/scoring/MA-LMM\"\n",
    "df = pd.read_csv(\"/home/tom/Open-Sora-dev/opensora/utils/camera_pose_utils/pose_traj_classes_2024-10-01_18-07-05.csv\")\n",
    "\n",
    "print(df.head())"
   ]
  },
  {
   "cell_type": "code",
   "execution_count": 15,
   "metadata": {},
   "outputs": [
    {
     "name": "stdout",
     "output_type": "stream",
     "text": [
      "                                                 path  \\\n",
      "0   /home/tom/orbslam3_docker/Datasets/cameractrl/...   \n",
      "7   /home/tom/orbslam3_docker/Datasets/cameractrl/...   \n",
      "14  /home/tom/orbslam3_docker/Datasets/cameractrl/...   \n",
      "23  /home/tom/orbslam3_docker/Datasets/cameractrl/...   \n",
      "28  /home/tom/orbslam3_docker/Datasets/cameractrl/...   \n",
      "\n",
      "                                            pose_file pose_traj_class  \n",
      "0   /home/tom/orbslam3_docker/Datasets/cameractrl/...         zoom_in  \n",
      "7   /home/tom/orbslam3_docker/Datasets/cameractrl/...         zoom_in  \n",
      "14  /home/tom/orbslam3_docker/Datasets/cameractrl/...         zoom_in  \n",
      "23  /home/tom/orbslam3_docker/Datasets/cameractrl/...         zoom_in  \n",
      "28  /home/tom/orbslam3_docker/Datasets/cameractrl/...         zoom_in  \n"
     ]
    }
   ],
   "source": [
    "interest = ['zoom_in', 'zoom_out', 'tilt_left', 'tilt_right', 'pan_up', 'pan_down', 'move_left', 'move_right', 'move_up', 'move_down']\n",
    "df_interest = pd.DataFrame()\n",
    "num_samples_per_class = 20\n",
    "split_type = 'train'\n",
    "\n",
    "# find the first 100 pose_traj_class=='zoom_in'\n",
    "# df[df['pose_traj_class']=='zoom_in'].head(100)\n",
    "\n",
    "for i in interest:\n",
    "    if split_type == 'train':\n",
    "        df_interest = pd.concat([df_interest, df[df['pose_traj_class']==i].head(num_samples_per_class)])\n",
    "    elif split_type == 'test':\n",
    "        df_interest = pd.concat([df_interest, df[df['pose_traj_class']==i].tail(num_samples_per_class)])\n",
    "\n",
    "print(df_interest.head())\n",
    "\n",
    "df_interest.to_csv(\"{}/data/camera_motion/10_motion_classes_{}.csv\".format(MALMM_HOME, num_samples_per_class), index=False)\n",
    "\n"
   ]
  },
  {
   "cell_type": "code",
   "execution_count": 9,
   "metadata": {},
   "outputs": [
    {
     "data": {
      "text/plain": [
       "'/home/tom/Open-Sora-dev/tools/scoring/MA-LMM/lavis/datasets'"
      ]
     },
     "execution_count": 9,
     "metadata": {},
     "output_type": "execute_result"
    }
   ],
   "source": [
    "pwd"
   ]
  }
 ],
 "metadata": {
  "kernelspec": {
   "display_name": "malmm",
   "language": "python",
   "name": "python3"
  },
  "language_info": {
   "codemirror_mode": {
    "name": "ipython",
    "version": 3
   },
   "file_extension": ".py",
   "mimetype": "text/x-python",
   "name": "python",
   "nbconvert_exporter": "python",
   "pygments_lexer": "ipython3",
   "version": "3.10.14"
  }
 },
 "nbformat": 4,
 "nbformat_minor": 2
}
