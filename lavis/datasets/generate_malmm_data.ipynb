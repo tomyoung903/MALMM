{
 "cells": [
  {
   "cell_type": "code",
   "execution_count": 1,
   "metadata": {},
   "outputs": [
    {
     "name": "stdout",
     "output_type": "stream",
     "text": [
      "                                                path  \\\n",
      "0  /home/tom/orbslam3_docker/Datasets/cameractrl/...   \n",
      "1  /home/tom/orbslam3_docker/Datasets/cameractrl/...   \n",
      "2  /home/tom/orbslam3_docker/Datasets/cameractrl/...   \n",
      "3  /home/tom/orbslam3_docker/Datasets/cameractrl/...   \n",
      "4  /home/tom/orbslam3_docker/Datasets/cameractrl/...   \n",
      "\n",
      "                                           pose_file pose_traj_class  \n",
      "0  /home/tom/orbslam3_docker/Datasets/cameractrl/...         zoom_in  \n",
      "1  /home/tom/orbslam3_docker/Datasets/cameractrl/...       composite  \n",
      "2  /home/tom/orbslam3_docker/Datasets/cameractrl/...       composite  \n",
      "3  /home/tom/orbslam3_docker/Datasets/cameractrl/...       composite  \n",
      "4  /home/tom/orbslam3_docker/Datasets/cameractrl/...       composite  \n"
     ]
    }
   ],
   "source": [
    "# /home/tom/Open-Sora-dev/opensora/utils/camera_pose_utils/pose_traj_classes_2024-10-01_18-07-05.csv\n",
    "import pandas as pd\n",
    "\n",
    "df = pd.read_csv(\"/home/tom/Open-Sora-dev/opensora/utils/camera_pose_utils/pose_traj_classes_2024-10-01_18-07-05.csv\")\n",
    "\n",
    "print(df.head())"
   ]
  },
  {
   "cell_type": "code",
   "execution_count": 8,
   "metadata": {},
   "outputs": [
    {
     "name": "stdout",
     "output_type": "stream",
     "text": [
      "                                                     path  \\\n",
      "657477  /home/tom/orbslam3_docker/Datasets/cameractrl/...   \n",
      "657485  /home/tom/orbslam3_docker/Datasets/cameractrl/...   \n",
      "657510  /home/tom/orbslam3_docker/Datasets/cameractrl/...   \n",
      "657547  /home/tom/orbslam3_docker/Datasets/cameractrl/...   \n",
      "657569  /home/tom/orbslam3_docker/Datasets/cameractrl/...   \n",
      "\n",
      "                                                pose_file pose_traj_class  \n",
      "657477  /home/tom/orbslam3_docker/Datasets/cameractrl/...         zoom_in  \n",
      "657485  /home/tom/orbslam3_docker/Datasets/cameractrl/...         zoom_in  \n",
      "657510  /home/tom/orbslam3_docker/Datasets/cameractrl/...         zoom_in  \n",
      "657547  /home/tom/orbslam3_docker/Datasets/cameractrl/...         zoom_in  \n",
      "657569  /home/tom/orbslam3_docker/Datasets/cameractrl/...         zoom_in  \n"
     ]
    }
   ],
   "source": [
    "interest = ['zoom_in', 'zoom_out', 'tilt_left', 'tilt_right', 'pan_up', 'pan_down']\n",
    "df_interest = pd.DataFrame()\n",
    "# find the first 100 pose_traj_class=='zoom_in'\n",
    "# df[df['pose_traj_class']=='zoom_in'].head(100)\n",
    "\n",
    "for i in interest:\n",
    "    df_interest = pd.concat([df_interest, df[df['pose_traj_class']==i].tail(20)])\n",
    "\n",
    "print(df_interest.head())\n",
    "\n",
    "df_interest.to_csv(\"/home/tom/Open-Sora-dev/tools/scoring/MA-LMM/data/camera_motion/pose_traj_classes_2024-10-01_18-07-05_20.csv\", index=False)\n",
    "\n"
   ]
  },
  {
   "cell_type": "code",
   "execution_count": null,
   "metadata": {},
   "outputs": [],
   "source": [
    "import pandas as pd\n",
    "df = pd.read_csv('/home/tom/Open-Sora-dev/tools/scoring/MA-LMM/data/camera_motion/6_motion_classes_100.csv')\n",
    "for video_id in df:\n",
    "    video_path = df[video_id]['path']\n",
    "    label = df[video_id]['pose_traj_class']"
   ]
  },
  {
   "cell_type": "code",
   "execution_count": 7,
   "metadata": {},
   "outputs": [
    {
     "data": {
      "text/plain": [
       "'/home/tom/orbslam3_docker/Datasets/cameractrl/travel/PJJ3gZGK5G0_scene-208/video.mp4'"
      ]
     },
     "execution_count": 7,
     "metadata": {},
     "output_type": "execute_result"
    },
    {
     "ename": "",
     "evalue": "",
     "output_type": "error",
     "traceback": [
      "\u001b[1;31mThe Kernel crashed while executing code in the current cell or a previous cell. \n",
      "\u001b[1;31mPlease review the code in the cell(s) to identify a possible cause of the failure. \n",
      "\u001b[1;31mClick <a href='https://aka.ms/vscodeJupyterKernelCrash'>here</a> for more info. \n",
      "\u001b[1;31mView Jupyter <a href='command:jupyter.viewOutput'>log</a> for further details."
     ]
    }
   ],
   "source": [
    "df.iloc[-1]['path']"
   ]
  }
 ],
 "metadata": {
  "kernelspec": {
   "display_name": "malmm",
   "language": "python",
   "name": "python3"
  },
  "language_info": {
   "codemirror_mode": {
    "name": "ipython",
    "version": 3
   },
   "file_extension": ".py",
   "mimetype": "text/x-python",
   "name": "python",
   "nbconvert_exporter": "python",
   "pygments_lexer": "ipython3",
   "version": "3.10.14"
  }
 },
 "nbformat": 4,
 "nbformat_minor": 2
}
