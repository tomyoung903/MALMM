{
 "cells": [
  {
   "cell_type": "markdown",
   "metadata": {},
   "source": [
    "Note: change the prompt in lavis/projects/malmm/cls_camera_motion.yaml accordingly without the _'s ."
   ]
  },
  {
   "cell_type": "code",
   "execution_count": 12,
   "metadata": {},
   "outputs": [],
   "source": [
    "import pandas as pd\n",
    "MALMM_HOME = \"/home/tom/Open-Sora-dev/tools/scoring/MA-LMM\"\n",
    "df = pd.read_csv(\"/home/tom/Open-Sora-dev/opensora/utils/camera_pose_utils/pose_traj_classes_2024-10-01_18-07-05.csv\")\n",
    "# shuffle the rows\n",
    "df = df.sample(frac=1).reset_index(drop=True)\n",
    "# print(df.head())"
   ]
  },
  {
   "cell_type": "code",
   "execution_count": 13,
   "metadata": {},
   "outputs": [],
   "source": [
    "interests = ['zoom_in', 'zoom_out', 'tilt_left', 'tilt_right', 'move_left', 'move_right', 'move_up', 'move_down']\n",
    "num_classes = len(interests)"
   ]
  },
  {
   "cell_type": "code",
   "execution_count": 14,
   "metadata": {},
   "outputs": [
    {
     "name": "stdout",
     "output_type": "stream",
     "text": [
      "zoom_in 24582\n",
      "zoom_out 4997\n",
      "tilt_left 11314\n",
      "tilt_right 10896\n",
      "move_left 7419\n",
      "move_right 8885\n",
      "move_up 2696\n",
      "move_down 1390\n"
     ]
    }
   ],
   "source": [
    "# count df['pose_traj_class'] equals to each interest\n",
    "for i in interests:\n",
    "    print(i, len(df[df['pose_traj_class']==i]))\n"
   ]
  },
  {
   "cell_type": "code",
   "execution_count": 17,
   "metadata": {},
   "outputs": [
    {
     "name": "stdout",
     "output_type": "stream",
     "text": [
      "                                                     path  \\\n",
      "654789  /home/tom/orbslam3_docker/Datasets/cameractrl/...   \n",
      "654833  /home/tom/orbslam3_docker/Datasets/cameractrl/...   \n",
      "654870  /home/tom/orbslam3_docker/Datasets/cameractrl/...   \n",
      "654912  /home/tom/orbslam3_docker/Datasets/cameractrl/...   \n",
      "654929  /home/tom/orbslam3_docker/Datasets/cameractrl/...   \n",
      "\n",
      "                                                pose_file pose_traj_class  \n",
      "654789  /home/tom/orbslam3_docker/Datasets/cameractrl/...         zoom_in  \n",
      "654833  /home/tom/orbslam3_docker/Datasets/cameractrl/...         zoom_in  \n",
      "654870  /home/tom/orbslam3_docker/Datasets/cameractrl/...         zoom_in  \n",
      "654912  /home/tom/orbslam3_docker/Datasets/cameractrl/...         zoom_in  \n",
      "654929  /home/tom/orbslam3_docker/Datasets/cameractrl/...         zoom_in  \n"
     ]
    }
   ],
   "source": [
    "df_interests = pd.DataFrame()\n",
    "num_samples_per_class = 100\n",
    "split_type = 'test'\n",
    "\n",
    "# find the first 100 pose_traj_class=='zoom_in'\n",
    "# df[df['pose_traj_class']=='zoom_in'].head\n",
    "# (100)\n",
    "\n",
    "for i in interests:\n",
    "    if split_type == 'train':\n",
    "        df_interests = pd.concat([df_interests, df[df['pose_traj_class']==i].head(num_samples_per_class)])\n",
    "    elif split_type == 'test':\n",
    "        df_interests = pd.concat([df_interests, df[df['pose_traj_class']==i].tail(num_samples_per_class)])\n",
    "print(df_interests.head())\n",
    "\n",
    "df_interests.to_csv(f\"{MALMM_HOME}/data/camera_motion/{split_type}_{num_classes}_motion_classes_{num_samples_per_class}.csv\", index=False)\n",
    "\n"
   ]
  },
  {
   "cell_type": "code",
   "execution_count": null,
   "metadata": {},
   "outputs": [],
   "source": []
  }
 ],
 "metadata": {
  "kernelspec": {
   "display_name": "malmm",
   "language": "python",
   "name": "python3"
  },
  "language_info": {
   "codemirror_mode": {
    "name": "ipython",
    "version": 3
   },
   "file_extension": ".py",
   "mimetype": "text/x-python",
   "name": "python",
   "nbconvert_exporter": "python",
   "pygments_lexer": "ipython3",
   "version": "3.10.14"
  }
 },
 "nbformat": 4,
 "nbformat_minor": 2
}
